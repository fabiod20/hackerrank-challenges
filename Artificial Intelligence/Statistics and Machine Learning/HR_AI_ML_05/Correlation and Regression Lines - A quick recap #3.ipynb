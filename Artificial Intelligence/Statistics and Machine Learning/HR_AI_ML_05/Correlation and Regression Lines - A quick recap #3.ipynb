{
 "cells": [
  {
   "cell_type": "markdown",
   "metadata": {},
   "source": [
    "# Correlation and Regression Lines - A Quick Recap \\#3\n",
    "Solution of [Correlation and Regression Lines - A Quick Recap \\#3](https://www.hackerrank.com/challenges/correlation-and-regression-lines-8/problem), challenge of the *Artificial Intelligence* HackerRank's skill."
   ]
  },
  {
   "cell_type": "code",
   "execution_count": 1,
   "metadata": {},
   "outputs": [],
   "source": [
    "# import sys\n",
    "import numpy as np\n",
    "\n",
    "from sklearn.linear_model import LinearRegression"
   ]
  },
  {
   "cell_type": "code",
   "execution_count": 2,
   "metadata": {},
   "outputs": [
    {
     "name": "stdout",
     "output_type": "stream",
     "text": [
      "Reading the input file...\n",
      "File read!\n"
     ]
    }
   ],
   "source": [
    "# HackerRank\n",
    "# lines = sys.stdin.readlines()\n",
    "# lines = [line.rstrip() for line in lines]\n",
    "\n",
    "with open('input.txt', 'r') as f:\n",
    "    print('Reading the input file...')\n",
    "    lines = [line.rstrip() for line in f]\n",
    "    print('File read!')"
   ]
  },
  {
   "cell_type": "code",
   "execution_count": 3,
   "metadata": {},
   "outputs": [
    {
     "name": "stdout",
     "output_type": "stream",
     "text": [
      "Physics scores: [15, 12, 8, 8, 7, 7, 7, 6, 5, 3]\n",
      "History scores: [10, 25, 17, 11, 13, 17, 20, 13, 9, 15]\n"
     ]
    }
   ],
   "source": [
    "physics_scores =  list(map(int, lines[0].split()[2:]))\n",
    "history_scores =  list(map(int, lines[1].split()[2:]))\n",
    "\n",
    "print('Physics scores:', physics_scores)\n",
    "print('History scores:', history_scores)"
   ]
  },
  {
   "cell_type": "code",
   "execution_count": 4,
   "metadata": {},
   "outputs": [
    {
     "name": "stdout",
     "output_type": "stream",
     "text": [
      "History score: 15.5\n"
     ]
    }
   ],
   "source": [
    "x = np.array(physics_scores)\n",
    "y = np.array(history_scores)\n",
    "\n",
    "x = x.reshape(-1, 1)\n",
    "\n",
    "model = LinearRegression()\n",
    "model = model.fit(x, y)\n",
    "\n",
    "x_test = np.array([10]).reshape(1, -1)\n",
    "y_test = model.predict(x_test)\n",
    "print('History score: %.1f' % y_test)"
   ]
  }
 ],
 "metadata": {
  "kernelspec": {
   "display_name": "Python 3",
   "language": "python",
   "name": "python3"
  },
  "language_info": {
   "codemirror_mode": {
    "name": "ipython",
    "version": 3
   },
   "file_extension": ".py",
   "mimetype": "text/x-python",
   "name": "python",
   "nbconvert_exporter": "python",
   "pygments_lexer": "ipython3",
   "version": "3.7.4"
  },
  "toc": {
   "base_numbering": 1,
   "nav_menu": {},
   "number_sections": true,
   "sideBar": true,
   "skip_h1_title": false,
   "title_cell": "Table of Contents",
   "title_sidebar": "Contents",
   "toc_cell": false,
   "toc_position": {},
   "toc_section_display": true,
   "toc_window_display": true
  }
 },
 "nbformat": 4,
 "nbformat_minor": 2
}
