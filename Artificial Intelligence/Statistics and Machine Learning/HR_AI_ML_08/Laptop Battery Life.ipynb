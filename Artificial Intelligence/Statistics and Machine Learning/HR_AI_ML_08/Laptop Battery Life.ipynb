{
 "cells": [
  {
   "cell_type": "markdown",
   "metadata": {},
   "source": [
    "# Laptop Battery Life\n",
    "Solution to [Laptop Battery Life](https://www.hackerrank.com/challenges/correlation-and-regression-lines-5/problem), challenge of the *Artificial Intelligence* HackerRank's skill."
   ]
  },
  {
   "cell_type": "code",
   "execution_count": 2,
   "metadata": {},
   "outputs": [],
   "source": [
    "import numpy as np\n",
    "import pandas as pd\n",
    "import matplotlib.pyplot as plt\n",
    "\n",
    "from sklearn.linear_model import LinearRegression"
   ]
  },
  {
   "cell_type": "code",
   "execution_count": 3,
   "metadata": {},
   "outputs": [
    {
     "data": {
      "text/html": [
       "<div>\n",
       "<style scoped>\n",
       "    .dataframe tbody tr th:only-of-type {\n",
       "        vertical-align: middle;\n",
       "    }\n",
       "\n",
       "    .dataframe tbody tr th {\n",
       "        vertical-align: top;\n",
       "    }\n",
       "\n",
       "    .dataframe thead th {\n",
       "        text-align: right;\n",
       "    }\n",
       "</style>\n",
       "<table border=\"1\" class=\"dataframe\">\n",
       "  <thead>\n",
       "    <tr style=\"text-align: right;\">\n",
       "      <th></th>\n",
       "      <th>charged_time</th>\n",
       "      <th>lasted_time</th>\n",
       "    </tr>\n",
       "  </thead>\n",
       "  <tbody>\n",
       "    <tr>\n",
       "      <th>0</th>\n",
       "      <td>2.81</td>\n",
       "      <td>5.62</td>\n",
       "    </tr>\n",
       "    <tr>\n",
       "      <th>1</th>\n",
       "      <td>7.14</td>\n",
       "      <td>8.00</td>\n",
       "    </tr>\n",
       "    <tr>\n",
       "      <th>2</th>\n",
       "      <td>2.72</td>\n",
       "      <td>5.44</td>\n",
       "    </tr>\n",
       "    <tr>\n",
       "      <th>3</th>\n",
       "      <td>3.87</td>\n",
       "      <td>7.74</td>\n",
       "    </tr>\n",
       "    <tr>\n",
       "      <th>4</th>\n",
       "      <td>1.90</td>\n",
       "      <td>3.80</td>\n",
       "    </tr>\n",
       "  </tbody>\n",
       "</table>\n",
       "</div>"
      ],
      "text/plain": [
       "   charged_time  lasted_time\n",
       "0          2.81         5.62\n",
       "1          7.14         8.00\n",
       "2          2.72         5.44\n",
       "3          3.87         7.74\n",
       "4          1.90         3.80"
      ]
     },
     "execution_count": 3,
     "metadata": {},
     "output_type": "execute_result"
    }
   ],
   "source": [
    "training_file = 'trainingdata.txt'\n",
    "\n",
    "df_train = pd.read_csv(training_file, names=['charged_time', 'lasted_time'])\n",
    "df_train.head()"
   ]
  },
  {
   "cell_type": "code",
   "execution_count": 4,
   "metadata": {},
   "outputs": [
    {
     "data": {
      "image/png": "[encoded data removed]",
      "text/plain": [
       "<Figure size 432x288 with 1 Axes>"
      ]
     },
     "metadata": {
      "needs_background": "light"
     },
     "output_type": "display_data"
    }
   ],
   "source": [
    "df_train.plot.scatter(x='charged_time', y='lasted_time')\n",
    "plt.show()"
   ]
  },
  {
   "cell_type": "code",
   "execution_count": 5,
   "metadata": {},
   "outputs": [
    {
     "name": "stdout",
     "output_type": "stream",
     "text": [
      "Predicted lasted time: 3.00\n"
     ]
    }
   ],
   "source": [
    "# without machine learning\n",
    "timeCharged = 1.5\n",
    "\n",
    "if timeCharged<4:\n",
    "    y_test = 2*timeCharged\n",
    "else:\n",
    "    y_test = 8\n",
    "\n",
    "print('Predicted lasted time: %.2f' % y_test)"
   ]
  },
  {
   "cell_type": "code",
   "execution_count": 6,
   "metadata": {},
   "outputs": [
    {
     "name": "stdout",
     "output_type": "stream",
     "text": [
      "Predicted lasted time: 3.00\n"
     ]
    }
   ],
   "source": [
    "# with machine learning\n",
    "timeCharged = 1.5\n",
    "\n",
    "if timeCharged<4:\n",
    "    df_useful = df_train.loc[df_train['charged_time']<4]\n",
    "\n",
    "    x_train = np.array(df_useful.charged_time).reshape(-1, 1)\n",
    "    y_train = np.array(df_useful.lasted_time)\n",
    "\n",
    "    model = LinearRegression()\n",
    "    model = model.fit(x_train, y_train)\n",
    "    \n",
    "    x_test = np.array([timeCharged]).reshape(1, -1)\n",
    "    y_test = model.predict(x_test)\n",
    "else:\n",
    "    y_test = 8\n",
    "\n",
    "print('Predicted lasted time: %.2f' % y_test)"
   ]
  }
 ],
 "metadata": {
  "kernelspec": {
   "display_name": "Python 3",
   "language": "python",
   "name": "python3"
  },
  "language_info": {
   "codemirror_mode": {
    "name": "ipython",
    "version": 3
   },
   "file_extension": ".py",
   "mimetype": "text/x-python",
   "name": "python",
   "nbconvert_exporter": "python",
   "pygments_lexer": "ipython3",
   "version": "3.7.4"
  },
  "toc": {
   "base_numbering": 1,
   "nav_menu": {},
   "number_sections": true,
   "sideBar": true,
   "skip_h1_title": false,
   "title_cell": "Table of Contents",
   "title_sidebar": "Contents",
   "toc_cell": false,
   "toc_position": {},
   "toc_section_display": true,
   "toc_window_display": true
  }
 },
 "nbformat": 4,
 "nbformat_minor": 2
}
