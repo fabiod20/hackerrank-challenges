{
 "cells": [
  {
   "cell_type": "markdown",
   "metadata": {},
   "source": [
    "# Day 6: Multiple Linear Regression: Predicting House Prices\n",
    "Solution to [Day 6: Multiple Linear Regression: Predicting House Prices](https://www.hackerrank.com/challenges/predicting-house-prices/problem), challenge of the *Artificial Intelligence* HackerRank's skill."
   ]
  },
  {
   "cell_type": "code",
   "execution_count": 1,
   "metadata": {},
   "outputs": [],
   "source": [
    "# import sys\n",
    "import numpy as np\n",
    "\n",
    "from sklearn.linear_model import LinearRegression"
   ]
  },
  {
   "cell_type": "code",
   "execution_count": 2,
   "metadata": {},
   "outputs": [
    {
     "name": "stdout",
     "output_type": "stream",
     "text": [
      "Reading the input file...\n",
      "File read!\n"
     ]
    }
   ],
   "source": [
    "# HackerRank\n",
    "# lines = sys.stdin.readlines()\n",
    "# lines = [line.rstrip() for line in lines]\n",
    "\n",
    "with open('input.txt', 'r') as f:\n",
    "    print('Reading the input file...')\n",
    "    lines = [line.rstrip() for line in f]\n",
    "    print('File read!')"
   ]
  },
  {
   "cell_type": "code",
   "execution_count": 3,
   "metadata": {},
   "outputs": [
    {
     "name": "stdout",
     "output_type": "stream",
     "text": [
      "Number of features:  2\n",
      "Number of training houses:  7\n",
      "\n",
      "Training house features:\n",
      " [[0.18 0.89]\n",
      " [1.   0.26]\n",
      " [0.92 0.11]\n",
      " [0.07 0.37]\n",
      " [0.85 0.16]\n",
      " [0.99 0.41]]\n",
      "Training house prices: [109.85 155.72 137.66  76.17 139.75 162.6 ]\n",
      "\n",
      "Number of test houses: 4\n",
      "\n",
      "Test house features:\n",
      " [[0.49 0.18]\n",
      " [0.57 0.83]\n",
      " [0.56 0.64]\n",
      " [0.76 0.18]]\n"
     ]
    }
   ],
   "source": [
    "F, N = map(int, lines[0].split())\n",
    "\n",
    "print('Number of features: ', F)\n",
    "print('Number of training houses: ', N)\n",
    "print()\n",
    "\n",
    "x_train = []\n",
    "y_train = []\n",
    "\n",
    "for n in range(1, N):\n",
    "    x_train.append(lines[n].split()[:F])\n",
    "    y_train.append(lines[n].split()[F])\n",
    "\n",
    "x_train = np.array(x_train, dtype=float)\n",
    "y_train = np.array(y_train, dtype=float)\n",
    "\n",
    "print('Training house features:\\n', x_train)\n",
    "print('Training house prices:', y_train)\n",
    "print()\n",
    "\n",
    "T = int(lines[N+1])\n",
    "\n",
    "print('Number of test houses:', T)\n",
    "print()\n",
    "\n",
    "x_test = []\n",
    "\n",
    "for n in range(N+2, N+2+T):\n",
    "    x_test.append(lines[n].split()[:F])\n",
    "\n",
    "x_test = np.array(x_test, dtype=float)\n",
    "\n",
    "print('Test house features:\\n', x_test)"
   ]
  },
  {
   "cell_type": "code",
   "execution_count": 4,
   "metadata": {},
   "outputs": [
    {
     "name": "stdout",
     "output_type": "stream",
     "text": [
      "Predicted house prices: [105.10106355 143.33718449 133.38470165 129.79672638]\n"
     ]
    }
   ],
   "source": [
    "model = LinearRegression()\n",
    "model = model.fit(x_train, y_train)\n",
    "y_test = model.predict(x_test)\n",
    "\n",
    "print('Predicted house prices:', y_test)\n",
    "\n",
    "# HackerRank\n",
    "# for y in y_test:\n",
    "#     print('%.2f' % y)"
   ]
  }
 ],
 "metadata": {
  "kernelspec": {
   "display_name": "Python 3",
   "language": "python",
   "name": "python3"
  },
  "language_info": {
   "codemirror_mode": {
    "name": "ipython",
    "version": 3
   },
   "file_extension": ".py",
   "mimetype": "text/x-python",
   "name": "python",
   "nbconvert_exporter": "python",
   "pygments_lexer": "ipython3",
   "version": "3.7.4"
  },
  "toc": {
   "base_numbering": 1,
   "nav_menu": {},
   "number_sections": true,
   "sideBar": true,
   "skip_h1_title": false,
   "title_cell": "Table of Contents",
   "title_sidebar": "Contents",
   "toc_cell": false,
   "toc_position": {
    "height": "calc(100% - 180px)",
    "left": "10px",
    "top": "150px",
    "width": "165px"
   },
   "toc_section_display": true,
   "toc_window_display": true
  }
 },
 "nbformat": 4,
 "nbformat_minor": 2
}
