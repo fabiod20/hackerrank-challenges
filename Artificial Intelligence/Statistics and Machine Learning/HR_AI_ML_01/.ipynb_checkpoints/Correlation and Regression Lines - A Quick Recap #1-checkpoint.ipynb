{
 "cells": [
  {
   "cell_type": "markdown",
   "metadata": {},
   "source": [
    "# Correlation and Regression Lines - A Quick Recap \\#1\n",
    "Solution to [Correlation and Regression Lines - A Quick Recap \\#1](https://www.hackerrank.com/challenges/predicting-house-prices/problem), challenge of the *Artificial Intelligence* HackerRank's skill."
   ]
  },
  {
   "cell_type": "code",
   "execution_count": 1,
   "metadata": {},
   "outputs": [],
   "source": [
    "# import sys\n",
    "import numpy as np"
   ]
  },
  {
   "cell_type": "code",
   "execution_count": 2,
   "metadata": {},
   "outputs": [
    {
     "name": "stdout",
     "output_type": "stream",
     "text": [
      "Reading the input file...\n",
      "File read!\n"
     ]
    }
   ],
   "source": [
    "# HackerRank\n",
    "# lines = sys.stdin.readlines()\n",
    "# lines = [line.rstrip() for line in lines]\n",
    "\n",
    "with open('input.txt', 'r') as f:\n",
    "    print('Reading the input file...')\n",
    "    lines = [line.rstrip() for line in f]\n",
    "    print('File read!')"
   ]
  },
  {
   "cell_type": "code",
   "execution_count": 3,
   "metadata": {},
   "outputs": [
    {
     "name": "stdout",
     "output_type": "stream",
     "text": [
      "Physics scores: [15, 12, 8, 8, 7, 7, 7, 6, 5, 3]\n",
      "History scores: [10, 25, 17, 11, 13, 17, 20, 13, 9, 15]\n"
     ]
    }
   ],
   "source": [
    "physics_scores =  list(map(int, lines[0].split()[2:]))\n",
    "history_scores =  list(map(int, lines[1].split()[2:]))\n",
    "\n",
    "print('Physics scores:', physics_scores)\n",
    "print('History scores:', history_scores)"
   ]
  },
  {
   "cell_type": "code",
   "execution_count": 4,
   "metadata": {},
   "outputs": [
    {
     "name": "stdout",
     "output_type": "stream",
     "text": [
      "Karl Pearson’s coefficient: 0.145\n"
     ]
    }
   ],
   "source": [
    "corr = np.corrcoef(physics_scores, history_scores)\n",
    "\n",
    "print('Karl Pearson’s coefficient: %.3f' % corr[0,1])"
   ]
  }
 ],
 "metadata": {
  "kernelspec": {
   "display_name": "Python 3",
   "language": "python",
   "name": "python3"
  },
  "language_info": {
   "codemirror_mode": {
    "name": "ipython",
    "version": 3
   },
   "file_extension": ".py",
   "mimetype": "text/x-python",
   "name": "python",
   "nbconvert_exporter": "python",
   "pygments_lexer": "ipython3",
   "version": "3.7.4"
  },
  "toc": {
   "base_numbering": 1,
   "nav_menu": {},
   "number_sections": true,
   "sideBar": true,
   "skip_h1_title": false,
   "title_cell": "Table of Contents",
   "title_sidebar": "Contents",
   "toc_cell": false,
   "toc_position": {
    "height": "calc(100% - 180px)",
    "left": "10px",
    "top": "150px",
    "width": "165px"
   },
   "toc_section_display": true,
   "toc_window_display": true
  }
 },
 "nbformat": 4,
 "nbformat_minor": 2
}
