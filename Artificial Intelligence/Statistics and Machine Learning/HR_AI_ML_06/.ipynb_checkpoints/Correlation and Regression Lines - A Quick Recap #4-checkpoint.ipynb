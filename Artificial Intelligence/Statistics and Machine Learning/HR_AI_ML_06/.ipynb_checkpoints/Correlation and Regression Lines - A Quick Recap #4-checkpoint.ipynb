{
 "cells": [
  {
   "cell_type": "markdown",
   "metadata": {},
   "source": [
    "# Correlation and Regression Lines - A Quick Recap \\#4\n",
    "Solution to [Correlation and Regression Lines - A Quick Recap \\#4](https://www.hackerrank.com/challenges/correlation-and-regression-lines-4/problem), challenge of the *Artificial Intelligence* HackerRank's skill."
   ]
  },
  {
   "cell_type": "code",
   "execution_count": 1,
   "metadata": {},
   "outputs": [
    {
     "name": "stdout",
     "output_type": "stream",
     "text": [
      "x: 8.5\n"
     ]
    }
   ],
   "source": [
    "# 4 x – 5 y + 33 = 0 (line of y on x) \n",
    "# 20 x – 9 y – 107 = 0 (line of x on y)\n",
    "\n",
    "y = 7   # regress x on y\n",
    "x = (9 * y + 107) / 20\n",
    "print('x: %.1f' % x)"
   ]
  }
 ],
 "metadata": {
  "kernelspec": {
   "display_name": "Python 3",
   "language": "python",
   "name": "python3"
  },
  "language_info": {
   "codemirror_mode": {
    "name": "ipython",
    "version": 3
   },
   "file_extension": ".py",
   "mimetype": "text/x-python",
   "name": "python",
   "nbconvert_exporter": "python",
   "pygments_lexer": "ipython3",
   "version": "3.7.4"
  },
  "toc": {
   "base_numbering": 1,
   "nav_menu": {},
   "number_sections": true,
   "sideBar": true,
   "skip_h1_title": false,
   "title_cell": "Table of Contents",
   "title_sidebar": "Contents",
   "toc_cell": false,
   "toc_position": {},
   "toc_section_display": true,
   "toc_window_display": true
  }
 },
 "nbformat": 4,
 "nbformat_minor": 2
}
