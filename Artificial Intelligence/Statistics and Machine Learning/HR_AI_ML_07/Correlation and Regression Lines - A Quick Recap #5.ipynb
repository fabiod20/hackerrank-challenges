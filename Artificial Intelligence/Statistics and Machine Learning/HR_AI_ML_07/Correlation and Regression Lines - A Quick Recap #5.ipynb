{
 "cells": [
  {
   "cell_type": "markdown",
   "metadata": {},
   "source": [
    "# Correlation and Regression Lines - A Quick Recap \\#5\n",
    "Solution to [Correlation and Regression Lines - A Quick Recap \\#5](https://www.hackerrank.com/challenges/correlation-and-regression-lines-5/problem), challenge of the *Artificial Intelligence* HackerRank's skill."
   ]
  },
  {
   "cell_type": "code",
   "execution_count": 1,
   "metadata": {},
   "outputs": [
    {
     "name": "stdout",
     "output_type": "stream",
     "text": [
      "Variance of y: 16.0\n"
     ]
    }
   ],
   "source": [
    "# 4 x – 5 y + 33 = 0 (line of y on x) \n",
    "# 20 x – 9 y – 107 = 0 (line of x on y)\n",
    "\n",
    "slope_1 = 4/5   #(y on x)\n",
    "slope_2 = 9/20  #(x on y)\n",
    "var_x = 9   # std(x) = 3\n",
    "\n",
    "# slope_1 = cov(x,y) / var(x) -> cov(x,y) = slope_1 * var(x)\n",
    "# slope_2 = cov(x,y) / var(y) -> cov(x,y) = slope_2 * var(y)\n",
    "# -> slope_1 * var(x) = slope_2 * var(y)\n",
    "# -> var(y) = slope_1 / slope_2 * var(x)\n",
    "\n",
    "var_y = slope_1 / slope_2 * var_x\n",
    "print('Variance of y: %.1f' % var_y)"
   ]
  }
 ],
 "metadata": {
  "kernelspec": {
   "display_name": "Python 3",
   "language": "python",
   "name": "python3"
  },
  "language_info": {
   "codemirror_mode": {
    "name": "ipython",
    "version": 3
   },
   "file_extension": ".py",
   "mimetype": "text/x-python",
   "name": "python",
   "nbconvert_exporter": "python",
   "pygments_lexer": "ipython3",
   "version": "3.7.4"
  },
  "toc": {
   "base_numbering": 1,
   "nav_menu": {},
   "number_sections": true,
   "sideBar": true,
   "skip_h1_title": false,
   "title_cell": "Table of Contents",
   "title_sidebar": "Contents",
   "toc_cell": false,
   "toc_position": {},
   "toc_section_display": true,
   "toc_window_display": true
  }
 },
 "nbformat": 4,
 "nbformat_minor": 2
}
